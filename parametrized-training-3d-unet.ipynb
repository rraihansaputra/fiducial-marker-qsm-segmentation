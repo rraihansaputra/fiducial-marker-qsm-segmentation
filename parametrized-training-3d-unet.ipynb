{
 "cells": [
  {
   "cell_type": "code",
   "execution_count": 1,
   "id": "e6fe26fe-ccc1-4ca9-a684-aecb37708557",
   "metadata": {},
   "outputs": [],
   "source": [
    "from fastai.callback.wandb import *\n",
    "from fastMONAI.vision_all import *"
   ]
  },
  {
   "cell_type": "code",
   "execution_count": 3,
   "id": "3c17e001-c258-4954-b81b-106e535524f1",
   "metadata": {},
   "outputs": [],
   "source": [
    "set_seed(42, reproducible=True)"
   ]
  },
  {
   "cell_type": "code",
   "execution_count": 10,
   "id": "8e73e0b9-da1b-4b76-aef8-7966af79ff9e",
   "metadata": {},
   "outputs": [],
   "source": [
    "default_config = SimpleNamespace(\n",
    "    batch_size = 2, # best 2\n",
    "    img_path = \"ImgTrMskCmb\",\n",
    "    # ImgTr -> base raw QSM\n",
    "    # ImgTrMsk -> masked QSM images\n",
    "    # ImgTrMskCmb -> masked with T2* map\n",
    "    # ImgTrMskCmbMag -> masked QSM with T2* map and magnitude\n",
    "    model_channel= \"8,16,32\", # \"4,8,8\", \"4,8,16\", \"8,16,32\"\n",
    "    learning_rate = 0.01, # 0.1 / 0.01\n",
    "    \n",
    "    epoch = 10 # 300-500 epochs for training from scratch\n",
    ")\n",
    "\n",
    "config = default_config"
   ]
  },
  {
   "cell_type": "code",
   "execution_count": 13,
   "id": "62d29dfd-fe89-4a50-86ae-76c688d7673f",
   "metadata": {},
   "outputs": [],
   "source": [
    "# functions to get paths of image and label files\n",
    "\n",
    "def get_nii_files(path, recurse=True, folders=None):\n",
    "    res =  get_files(path, [\".nii\"], recurse=recurse, folders=folders)\n",
    "    return [str(x) for x in res]\n",
    "\n",
    "def get_gz_files(path, recurse=True, folders=None):\n",
    "    res =  get_files(path, [\".gz\"], recurse=recurse, folders=folders)\n",
    "    return [str(x) for x in res]\n",
    "\n",
    "def get_lbl(imagepath):\n",
    "    # get segmentatino folder name by replacing 'qsm_' with 'segg_'\n",
    "    seg_name = imagepath.split('/')[-1].replace('qsm-even-echoes','segmentation_clean').replace('.nii','.nii.gz')\n",
    "    \n",
    "    return str(path_lbl_gm/seg_name) #return the str'd path because fastmonai expects string\n",
    "\n",
    "# function to split valid and train based on the 'valid' array\n",
    "def FileSplitter():\n",
    "    def _func(x):\n",
    "        return any(s in x for s in valid)\n",
    "    def _inner(o, **kwargs): return FuncSplitter(_func)(o)\n",
    "    return _inner"
   ]
  },
  {
   "cell_type": "code",
   "execution_count": 14,
   "id": "3482605c-bb4b-4462-9a71-d9d789350f1b",
   "metadata": {},
   "outputs": [],
   "source": [
    "# valid data points\n",
    "valid = [\n",
    "    # new data\n",
    "    'z0186251', # gold marker only, but one marker only occupies 1 layer\n",
    "    'z0705200', # calcification fragments. idk good for training or test lol\n",
    "    'z1472355' # very small 1 calcification \n",
    "]"
   ]
  },
  {
   "cell_type": "code",
   "execution_count": 15,
   "id": "3fba71bf-43d8-466b-a884-0d499decc7b7",
   "metadata": {},
   "outputs": [],
   "source": [
    "# dataset definition\n",
    "path = Path(\"bidsmonai-data/\")\n",
    "path_lbl_gm = path/\"labelsTrGm\"\n",
    "path_im = path/config.img_path\n",
    "\n",
    "fnames = get_nii_files(path_im)\n",
    "lbl_names = get_gz_files(path_lbl_gm)\n",
    "\n",
    "ll = [str(x) for x in lbl_names]\n",
    "med_dataset = MedDataset(img_list=ll, dtype=MedMask)\n",
    "resample, reorder = med_dataset.suggestion()"
   ]
  },
  {
   "cell_type": "code",
   "execution_count": 16,
   "id": "e32284a0-64fc-4009-8d53-6015777800da",
   "metadata": {},
   "outputs": [],
   "source": [
    "# augmentation setup\n",
    "size = [144,144,64]\n",
    "item_tfms= [\n",
    "    RandomFlip(axes=(\"LR\",)),\n",
    "    # RandomFlip(axes=(\"AP\",)),\n",
    "    ZNormalization(),\n",
    "    PadOrCrop(size),\n",
    "]\n",
    "\n",
    "# define and load data block\n",
    "bids = MedDataBlock(\n",
    "    blocks=(ImageBlock(cls=MedImage),MedMaskBlock),\n",
    "    splitter=FileSplitter(),\n",
    "    get_items=get_nii_files,\n",
    "    get_y = get_lbl,\n",
    "    item_tfms=item_tfms,\n",
    "    reorder=reorder,\n",
    "    resample=resample\n",
    ")\n",
    "dls = bids.dataloaders(path_im, bs=config.batch_size)\n",
    "\n",
    "# determine model channel count from dataset loaded\n",
    "MODEL_INPUT_CHANNELS = dls.train_ds[0][0].size()[0]"
   ]
  },
  {
   "cell_type": "code",
   "execution_count": 17,
   "id": "9ec0f72e-34e0-4253-92d6-c582ee9fcd2f",
   "metadata": {},
   "outputs": [],
   "source": [
    "from monai.networks.nets import UNet\n",
    "from monai.losses import DiceLoss\n",
    "\n",
    "loss_func = CustomLoss(\n",
    "    loss_func=DiceLoss(sigmoid=True)\n",
    ")"
   ]
  },
  {
   "cell_type": "code",
   "execution_count": 20,
   "id": "911ad4cc-44ec-4445-87bb-fe7da0adf103",
   "metadata": {},
   "outputs": [],
   "source": [
    "# convert channel config string into tuple\n",
    "CHANNEL_CONFIGS = {\n",
    "    \"4,8,16\": (4,8,16),\n",
    "    \"4,8,8\": (4,8,8),\n",
    "    \"8,16,32\": (8,16,32)\n",
    "}\n",
    "\n",
    "\n",
    "# define model\n",
    "model = UNet(\n",
    "    dimensions=3,\n",
    "    in_channels=MODEL_INPUT_CHANNELS,\n",
    "    out_channels=1,\n",
    "    channels=CHANNEL_CONFIGS[config.model_channel],\n",
    "    strides=(2,2),\n",
    "    num_res_units=2\n",
    ")\n",
    "model = model.model\n",
    "\n",
    "# create learner\n",
    "learn=Learner(\n",
    "    dls,\n",
    "    model,\n",
    "    loss_func=loss_func,\n",
    "    opt_func=ranger,\n",
    "    metrics=binary_dice_score,\n",
    "    cbs=[\n",
    "        #TODO set name/check with W&B\n",
    "        SaveModelCallback(\n",
    "            monitor=\"valid_loss\",\n",
    "            every_epoch=False,\n",
    "            with_opt=True\n",
    "        ),\n",
    "        SaveModelCallback(\n",
    "            monitor=\"binary_dice_score\",\n",
    "            every_epoch=False,\n",
    "            with_opt=True\n",
    "        ),\n",
    "        # WandbCallback(log_model=True)\n",
    "    ]\n",
    ")"
   ]
  },
  {
   "cell_type": "code",
   "execution_count": 21,
   "id": "5f407e55-0fbe-4ea0-a456-f715049f8174",
   "metadata": {
    "tags": []
   },
   "outputs": [
    {
     "data": {
      "text/html": [
       "\n",
       "<style>\n",
       "    /* Turns off some styling */\n",
       "    progress {\n",
       "        /* gets rid of default border in Firefox and Opera. */\n",
       "        border: none;\n",
       "        /* Needs to be in here for Safari polyfill so background images work as expected. */\n",
       "        background-size: auto;\n",
       "    }\n",
       "    progress:not([value]), progress:not([value])::-webkit-progress-bar {\n",
       "        background: repeating-linear-gradient(45deg, #7e7e7e, #7e7e7e 10px, #5c5c5c 10px, #5c5c5c 20px);\n",
       "    }\n",
       "    .progress-bar-interrupted, .progress-bar-interrupted::-webkit-progress-bar {\n",
       "        background: #F44336;\n",
       "    }\n",
       "</style>\n"
      ],
      "text/plain": [
       "<IPython.core.display.HTML object>"
      ]
     },
     "metadata": {},
     "output_type": "display_data"
    },
    {
     "data": {
      "text/html": [
       "<table border=\"1\" class=\"dataframe\">\n",
       "  <thead>\n",
       "    <tr style=\"text-align: left;\">\n",
       "      <th>epoch</th>\n",
       "      <th>train_loss</th>\n",
       "      <th>valid_loss</th>\n",
       "      <th>binary_dice_score</th>\n",
       "      <th>time</th>\n",
       "    </tr>\n",
       "  </thead>\n",
       "  <tbody>\n",
       "    <tr>\n",
       "      <td>0</td>\n",
       "      <td>0.999928</td>\n",
       "      <td>0.999955</td>\n",
       "      <td>0.000025</td>\n",
       "      <td>00:07</td>\n",
       "    </tr>\n",
       "    <tr>\n",
       "      <td>1</td>\n",
       "      <td>0.999928</td>\n",
       "      <td>0.999955</td>\n",
       "      <td>0.000025</td>\n",
       "      <td>00:04</td>\n",
       "    </tr>\n",
       "    <tr>\n",
       "      <td>2</td>\n",
       "      <td>0.999929</td>\n",
       "      <td>0.999955</td>\n",
       "      <td>0.000025</td>\n",
       "      <td>00:04</td>\n",
       "    </tr>\n",
       "    <tr>\n",
       "      <td>3</td>\n",
       "      <td>0.999929</td>\n",
       "      <td>0.999955</td>\n",
       "      <td>0.000025</td>\n",
       "      <td>00:04</td>\n",
       "    </tr>\n",
       "    <tr>\n",
       "      <td>4</td>\n",
       "      <td>0.999929</td>\n",
       "      <td>0.999955</td>\n",
       "      <td>0.000025</td>\n",
       "      <td>00:04</td>\n",
       "    </tr>\n",
       "    <tr>\n",
       "      <td>5</td>\n",
       "      <td>0.999929</td>\n",
       "      <td>0.999948</td>\n",
       "      <td>0.000031</td>\n",
       "      <td>00:04</td>\n",
       "    </tr>\n",
       "    <tr>\n",
       "      <td>6</td>\n",
       "      <td>0.999927</td>\n",
       "      <td>0.999939</td>\n",
       "      <td>0.000035</td>\n",
       "      <td>00:04</td>\n",
       "    </tr>\n",
       "    <tr>\n",
       "      <td>7</td>\n",
       "      <td>0.999924</td>\n",
       "      <td>0.999930</td>\n",
       "      <td>0.000040</td>\n",
       "      <td>00:04</td>\n",
       "    </tr>\n",
       "    <tr>\n",
       "      <td>8</td>\n",
       "      <td>0.999921</td>\n",
       "      <td>0.999917</td>\n",
       "      <td>0.000049</td>\n",
       "      <td>00:04</td>\n",
       "    </tr>\n",
       "    <tr>\n",
       "      <td>9</td>\n",
       "      <td>0.999916</td>\n",
       "      <td>0.999910</td>\n",
       "      <td>0.000053</td>\n",
       "      <td>00:04</td>\n",
       "    </tr>\n",
       "  </tbody>\n",
       "</table>"
      ],
      "text/plain": [
       "<IPython.core.display.HTML object>"
      ]
     },
     "metadata": {},
     "output_type": "display_data"
    },
    {
     "name": "stderr",
     "output_type": "stream",
     "text": [
      "/home/rs/miniconda3/lib/python3.9/site-packages/monai/utils/deprecate_utils.py:107: FutureWarning: <function compute_meandice at 0x7fc4b41e1a60>: Function `compute_meandice` has been deprecated since version 1.0.0. use `compute_dice` instead.\n",
      "  warn_deprecated(obj, msg, warning_category)\n"
     ]
    },
    {
     "name": "stdout",
     "output_type": "stream",
     "text": [
      "Better model found at epoch 0 with valid_loss value: 0.9999549388885498.\n",
      "Better model found at epoch 0 with binary_dice_score value: 2.4727080017328262e-05.\n",
      "Better model found at epoch 2 with valid_loss value: 0.999954879283905.\n",
      "Better model found at epoch 5 with valid_loss value: 0.999947726726532.\n",
      "Better model found at epoch 5 with binary_dice_score value: 3.069983722525649e-05.\n",
      "Better model found at epoch 6 with valid_loss value: 0.9999393820762634.\n",
      "Better model found at epoch 6 with binary_dice_score value: 3.4578257327666506e-05.\n",
      "Better model found at epoch 7 with valid_loss value: 0.9999303817749023.\n",
      "Better model found at epoch 7 with binary_dice_score value: 3.992760684923269e-05.\n",
      "Better model found at epoch 8 with valid_loss value: 0.9999167323112488.\n",
      "Better model found at epoch 8 with binary_dice_score value: 4.8511166824027896e-05.\n",
      "Better model found at epoch 9 with valid_loss value: 0.9999095797538757.\n",
      "Better model found at epoch 9 with binary_dice_score value: 5.3186860895948485e-05.\n"
     ]
    }
   ],
   "source": [
    "# run training as configured\n",
    "learn.fit_flat_cos(config.epoch, lr=config.learning_rate)"
   ]
  },
  {
   "cell_type": "code",
   "execution_count": null,
   "id": "9f2ba87b-d1f6-49fd-b455-810021db7514",
   "metadata": {
    "jupyter": {
     "source_hidden": true
    },
    "tags": []
   },
   "outputs": [],
   "source": []
  }
 ],
 "metadata": {
  "kernelspec": {
   "display_name": "Python 3 (ipykernel)",
   "language": "python",
   "name": "python3"
  },
  "language_info": {
   "codemirror_mode": {
    "name": "ipython",
    "version": 3
   },
   "file_extension": ".py",
   "mimetype": "text/x-python",
   "name": "python",
   "nbconvert_exporter": "python",
   "pygments_lexer": "ipython3",
   "version": "3.9.12"
  }
 },
 "nbformat": 4,
 "nbformat_minor": 5
}
