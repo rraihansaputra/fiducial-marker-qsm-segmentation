{
 "cells": [
  {
   "cell_type": "code",
   "execution_count": null,
   "id": "c72673fb-0e0c-4c50-9ddf-db043e8f32de",
   "metadata": {},
   "outputs": [],
   "source": [
    "import torch\n",
    "import torchio as tio"
   ]
  },
  {
   "cell_type": "code",
   "execution_count": null,
   "id": "4afbd80e-486e-4980-9f1d-380071e24cd1",
   "metadata": {},
   "outputs": [],
   "source": [
    "\n",
    "# only make marker as labels\n",
    "doremap_gm = tio.RemapLabels({1:0,2:1, 3:0})\n",
    "\n",
    "flfolder_gm = \"bidsmonai-data/labelsTrGm/\"\n",
    "def only_gm(path):\n",
    "    fn = path.split(\"/\")[-1]\n",
    "    lm = tio.LabelMap(path)\n",
    "    rmp = doremap_gm(lm)\n",
    "    rmp.save(flfolder_gm+fn)\n",
    "    \n",
    "\n",
    "# marker and calcification as separate labels\n",
    "doremap_gm_calc = tio.RemapLabels({1:0,2:1, 3:2})\n",
    "\n",
    "flfolder_gm_calc = \"bidsmonai-data/labelsTrGmCl/\"\n",
    "def gm_cl(path):\n",
    "    fn = path.split(\"/\")[-1]\n",
    "    lm = tio.LabelMap(path)\n",
    "    rmp = doremap_gm_calc(lm)\n",
    "    rmp.save(flfolder_gm_calc+fn)"
   ]
  },
  {
   "cell_type": "code",
   "execution_count": null,
   "id": "f4dc2f92-7602-4dd3-ba4e-2110ae6b262a",
   "metadata": {},
   "outputs": [],
   "source": [
    "labellist = [\n",
    "\"bidsmonai-data/labelsTr/sub-z0034542_ses-20220715_run-01_segmentation_clean.nii.gz\",\n",
    "\"bidsmonai-data/labelsTr/sub-z0755228_ses-20211108_run-01_segmentation_clean.nii.gz\",\n",
    "\"bidsmonai-data/labelsTr/sub-z1167038_ses-20220315_run-01_segmentation_clean.nii.gz\",\n",
    "\"bidsmonai-data/labelsTr/sub-z1181657_ses-20220315_run-01_segmentation_clean.nii.gz\",\n",
    "\"bidsmonai-data/labelsTr/sub-z1262112_ses-20220314_run-01_segmentation_clean.nii.gz\",\n",
    "\"bidsmonai-data/labelsTr/sub-z1728751_ses-20220328_run-01_segmentation_clean.nii.gz\",\n",
    "\"bidsmonai-data/labelsTr/sub-z1778013_ses-20220715_run-01_segmentation_clean.nii.gz\",\n",
    "\"bidsmonai-data/labelsTr/sub-z2007565_ses-20220715_run-01_segmentation_clean.nii.gz\",\n",
    "\"bidsmonai-data/labelsTr/sub-z2980672_ses-20211020_run-01_segmentation_clean.nii.gz\",\n",
    "\"bidsmonai-data/labelsTr/sub-z3278008_ses-20211109_run-01_segmentation_clean.nii.gz\",\n",
    "\"bidsmonai-data/labelsTr/sub-z0186251_ses-20221107_run-01_segmentation_clean.nii.gz\",\n",
    "\"bidsmonai-data/labelsTr/sub-z0705200_ses-20230104_run-01_segmentation_clean.nii.gz\",\n",
    "\"bidsmonai-data/labelsTr/sub-z1472355_ses-20221222_run-01_segmentation_clean.nii.gz\",\n",
    "]"
   ]
  },
  {
   "cell_type": "code",
   "execution_count": null,
   "id": "06f98382-5b16-4637-9221-d6db025fc507",
   "metadata": {},
   "outputs": [],
   "source": [
    "for path in labellist:\n",
    "    only_gm(path)\n",
    "    gm_cl(path)"
   ]
  },
  {
   "cell_type": "code",
   "execution_count": null,
   "id": "4e6effc7-d87f-4109-a703-4713ea5473d1",
   "metadata": {},
   "outputs": [],
   "source": [
    "onl"
   ]
  }
 ],
 "metadata": {
  "kernelspec": {
   "display_name": "Python 3 (ipykernel)",
   "language": "python",
   "name": "python3"
  },
  "language_info": {
   "codemirror_mode": {
    "name": "ipython",
    "version": 3
   },
   "file_extension": ".py",
   "mimetype": "text/x-python",
   "name": "python",
   "nbconvert_exporter": "python",
   "pygments_lexer": "ipython3",
   "version": "3.9.12"
  }
 },
 "nbformat": 4,
 "nbformat_minor": 5
}
